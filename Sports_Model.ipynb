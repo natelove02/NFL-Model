{
  "nbformat": 4,
  "nbformat_minor": 0,
  "metadata": {
    "colab": {
      "provenance": [],
      "mount_file_id": "1pgFB-Zb97b6KNxSdXobHZoTYORI7JoRd",
      "authorship_tag": "ABX9TyNStm7MMLrjt2Io55DwGGAi",
      "include_colab_link": true
    },
    "kernelspec": {
      "name": "python3",
      "display_name": "Python 3"
    },
    "language_info": {
      "name": "python"
    }
  },
  "cells": [
    {
      "cell_type": "markdown",
      "metadata": {
        "id": "view-in-github",
        "colab_type": "text"
      },
      "source": [
        "<a href=\"https://colab.research.google.com/github/natelove02/NFL-Model/blob/main/Sports_Model.ipynb\" target=\"_parent\"><img src=\"https://colab.research.google.com/assets/colab-badge.svg\" alt=\"Open In Colab\"/></a>"
      ]
    },
    {
      "cell_type": "code",
      "execution_count": 4,
      "metadata": {
        "id": "SfJIv1qElQX8"
      },
      "outputs": [],
      "source": [
        "import torch\n",
        "import torch.nn as nn\n",
        "import pandas as pd\n",
        "import numpy as np\n",
        "from sklearn.preprocessing import StandardScaler\n",
        "from sklearn.metrics import accuracy_score\n",
        "from datetime import datetime\n",
        "import matplotlib.pyplot as plt\n",
        "\n"
      ]
    },
    {
      "cell_type": "code",
      "source": [
        "from google.colab import drive\n",
        "drive.mount('/content/drive')"
      ],
      "metadata": {
        "colab": {
          "base_uri": "https://localhost:8080/"
        },
        "id": "wEFzuSWevd3K",
        "outputId": "b12394ab-233e-4da1-95ec-f3ff8a900392"
      },
      "execution_count": 6,
      "outputs": [
        {
          "output_type": "stream",
          "name": "stdout",
          "text": [
            "Drive already mounted at /content/drive; to attempt to forcibly remount, call drive.mount(\"/content/drive\", force_remount=True).\n"
          ]
        }
      ]
    },
    {
      "cell_type": "code",
      "source": [
        "\n",
        "OffPath = '/content/drive/MyDrive/NFLModel/TeamOffense.csv'\n",
        "DefPath = '/content/drive/MyDrive/NFLModel/TeamDefense.csv'\n",
        "\n",
        "df_SeasonOffense = pd.read_csv(OffPath,skiprows = 1)\n",
        "df_SeasonDefense = pd.read_csv(DefPath,skiprows = 1)\n",
        "\n",
        "#print(df_SeasonOffense.head())\n",
        "#print(df_SeasonDefense.head())\n",
        "\n",
        "ColumnNamesOff = df_SeasonOffense.iloc[1]\n",
        "ColumnNamesDef = df_SeasonDefense.iloc[1]\n",
        "\n",
        "df_SeasonOffense = df_SeasonOffense.drop(columns=['Rk','Tm'])\n",
        "df_SeasonDefense = df_SeasonDefense.drop(columns=['Rk','Tm'])\n",
        "\n",
        "print(df_SeasonOffense.head())\n",
        "print(df_SeasonDefense.head())\n",
        "\n",
        "df_SeasonOffense_NormalizedZ = (df_SeasonOffense - df_SeasonOffense.mean()) / df_SeasonOffense.std() #Z Score normalization\n",
        "df_SeasonDefense_NormalizedZ = (df_SeasonDefense - df_SeasonDefense.mean()) / df_SeasonDefense.std() #z Score normalizaiton"
      ],
      "metadata": {
        "colab": {
          "base_uri": "https://localhost:8080/"
        },
        "id": "vt3nOsFzl-W7",
        "outputId": "9cbc2765-4426-4f02-93cc-0fa20f1e4cf7"
      },
      "execution_count": 13,
      "outputs": [
        {
          "output_type": "stream",
          "name": "stdout",
          "text": [
            "      G     PF     Yds     Ply  Y/P    TO   FL   1stD    Cmp    Att  ...  \\\n",
            "0  17.0  564.0  6962.0  1118.0  6.2  15.0  3.0  410.0  399.0  551.0  ...   \n",
            "1  17.0  525.0  6105.0  1025.0  6.0   8.0  2.0  360.0  329.0  520.0  ...   \n",
            "2  17.0  518.0  7224.0  1055.0  6.8  11.0  7.0  393.0  318.0  477.0  ...   \n",
            "3  17.0  502.0  6793.0  1094.0  6.2  23.0  7.0  395.0  408.0  571.0  ...   \n",
            "4  17.0  485.0  6284.0  1101.0  5.7  16.0  7.0  380.0  365.0  525.0  ...   \n",
            "\n",
            "    Yds.2  TD.1  Y/A  1stD.2    Pen   Yds.3  1stPy   Sc%   TO%     EXP  \n",
            "0  2488.0  29.0  4.7   144.0  107.0   988.0   24.0  51.6   8.2  269.80  \n",
            "1  2230.0  32.0  4.5   140.0  112.0   833.0   39.0  49.7   4.6  266.71  \n",
            "2  3189.0  21.0  5.8   164.0  132.0  1120.0   30.0  47.0   6.1  300.81  \n",
            "3  2536.0  16.0  5.3   137.0  108.0   839.0   34.0  48.1  12.7  207.09  \n",
            "4  2619.0  25.0  5.0   154.0  111.0   960.0   34.0  50.0   8.0  242.98  \n",
            "\n",
            "[5 rows x 26 columns]\n",
            "      G     PA     Yds     Ply  Y/P    TO    FL   1stD    Cmp    Att  ...  \\\n",
            "0  17.0  301.0  5514.0  1037.0  5.3  21.0   6.0  311.0  367.0  565.0  ...   \n",
            "1  17.0  303.0  4732.0   999.0  4.7  26.0  13.0  293.0  337.0  542.0  ...   \n",
            "2  17.0  311.0  5391.0  1093.0  4.9  25.0  10.0  327.0  393.0  606.0  ...   \n",
            "3  17.0  326.0  5451.0  1026.0  5.3  20.0   7.0  328.0  375.0  569.0  ...   \n",
            "4  17.0  332.0  5702.0  1078.0  5.3  33.0   9.0  325.0  415.0  637.0  ...   \n",
            "\n",
            "    Yds.2  TD.1  Y/A  1stD.2    Pen   Yds.3  1stPy   Sc%   TO%    EXP  \n",
            "0  1997.0   7.0  4.7   108.0  101.0   869.0   33.0  32.6  11.6 -12.31  \n",
            "1  1771.0   9.0  4.3   108.0   85.0   694.0   25.0  31.6  14.1  76.38  \n",
            "2  1639.0  10.0  3.9    82.0  101.0   723.0   42.0  31.6  12.4  34.83  \n",
            "3  1731.0  13.0  4.1   112.0  107.0   849.0   25.0  36.5  11.4 -74.11  \n",
            "4  1588.0  12.0  4.1    83.0  141.0  1185.0   24.0  31.6  16.6  35.95  \n",
            "\n",
            "[5 rows x 26 columns]\n"
          ]
        }
      ]
    },
    {
      "cell_type": "code",
      "source": [],
      "metadata": {
        "id": "ljYa2PVsva9z"
      },
      "execution_count": null,
      "outputs": []
    }
  ]
}