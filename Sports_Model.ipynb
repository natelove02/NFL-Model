{
  "nbformat": 4,
  "nbformat_minor": 0,
  "metadata": {
    "colab": {
      "provenance": [],
      "mount_file_id": "1pgFB-Zb97b6KNxSdXobHZoTYORI7JoRd",
      "authorship_tag": "ABX9TyPrlSNp24AlbHMEUEXAgHIX",
      "include_colab_link": true
    },
    "kernelspec": {
      "name": "python3",
      "display_name": "Python 3"
    },
    "language_info": {
      "name": "python"
    }
  },
  "cells": [
    {
      "cell_type": "markdown",
      "metadata": {
        "id": "view-in-github",
        "colab_type": "text"
      },
      "source": [
        "<a href=\"https://colab.research.google.com/github/natelove02/NFL-Model/blob/main/Sports_Model.ipynb\" target=\"_parent\"><img src=\"https://colab.research.google.com/assets/colab-badge.svg\" alt=\"Open In Colab\"/></a>"
      ]
    },
    {
      "cell_type": "code",
      "execution_count": 29,
      "metadata": {
        "id": "SfJIv1qElQX8"
      },
      "outputs": [],
      "source": [
        "import torch\n",
        "import torch.nn as nn\n",
        "import pandas as pd\n",
        "import numpy as np\n",
        "from sklearn.preprocessing import StandardScaler\n",
        "from sklearn.metrics import accuracy_score\n",
        "from datetime import datetime\n",
        "import matplotlib.pyplot as plt\n",
        "import requests\n",
        "from bs4 import BeautifulSoup\n",
        "import csv\n",
        "import time\n",
        "\n"
      ]
    },
    {
      "cell_type": "code",
      "source": [
        "from google.colab import drive\n",
        "drive.mount('/content/drive')"
      ],
      "metadata": {
        "colab": {
          "base_uri": "https://localhost:8080/"
        },
        "id": "wEFzuSWevd3K",
        "outputId": "40894dc8-6ec0-4dfe-ba86-9df6ce592723"
      },
      "execution_count": 42,
      "outputs": [
        {
          "output_type": "stream",
          "name": "stdout",
          "text": [
            "Drive already mounted at /content/drive; to attempt to forcibly remount, call drive.mount(\"/content/drive\", force_remount=True).\n"
          ]
        }
      ]
    },
    {
      "cell_type": "code",
      "source": [
        "\n",
        "OffPath = '/content/drive/MyDrive/NFLModel/TeamOffense.csv'\n",
        "DefPath = '/content/drive/MyDrive/NFLModel/TeamDefense.csv'\n",
        "FWPath = '/content/drive/MyDrive/NFLModel/FullWeeklyGames.csv'\n",
        "\n",
        "df_SeasonOffense = pd.read_csv(OffPath,skiprows = [0,34,35,36], header = 0)\n",
        "df_SeasonDefense = pd.read_csv(DefPath,skiprows = [0,34,35,36], header = 0)\n",
        "df_WeeklyGames = pd.read_csv(FWPath, usecols=[0, 4, 6, 8, 9, 10, 11, 12, 13], header = 0)\n",
        "#print(df_SeasonOffense.head())\n",
        "#print(df_SeasonDefense.head())\n",
        "#print(df_WeeklyGames.head())\n",
        "\n",
        "#ColumnNamesOff = df_SeasonOffense.iloc[1]\n",
        "#ColumnNamesDef = df_SeasonDefense.iloc[1]\n",
        "\n",
        "#df_SeasonOffense.columns = ColumnNamesOff\n",
        "#df_SeasonDefense.columns = ColumnNamesDef\n",
        "\n",
        "#print(type(df_SeasonOffense))\n",
        "#print(type(df_SeasonDefense))\n",
        "\n",
        "df_SeasonOffense = df_SeasonOffense.sort_values(by=\"Tm\").reset_index(drop=True)\n",
        "df_SeasonDefense = df_SeasonDefense.sort_values(by=\"Tm\").reset_index(drop=True)\n",
        "#df_WeeklyGames = df_WeeklyGames.sort_values(by=\"Winner/tie\").reset_index(drop=True)\n",
        "\n",
        "\n",
        "\n",
        "team_map = {team: idx for idx, team in enumerate(df_SeasonOffense[\"Tm\"].unique())}\n",
        "df_WeeklyGames['Loser/tie'] = df_WeeklyGames['Loser/tie'].map(team_map)\n",
        "df_WeeklyGames['Winner/tie'] = df_WeeklyGames['Winner/tie'].map(team_map)\n",
        "#print(df_WeeklyGames.head())\n",
        "#print (team_map)\n",
        "\n",
        "df_SeasonOffense = df_SeasonOffense.drop(columns=['Rk','Tm'])\n",
        "df_SeasonDefense = df_SeasonDefense.drop(columns=['Rk','Tm'])\n",
        "\n",
        "#df_SeasonOffense = df_SeasonOffense.drop(index=[0,1])\n",
        "#df_SeasonDefense = df_SeasonDefense.drop(index=[0,1])\n",
        "\n",
        "#print(df_SeasonOffense.head())\n",
        "#print(df_SeasonDefense.head())\n",
        "\n",
        "df_SeasonOffense_NormalizedZ = (df_SeasonOffense - df_SeasonOffense.mean()) / df_SeasonOffense.std() #Z Score normalization\n",
        "df_SeasonDefense_NormalizedZ = (df_SeasonDefense - df_SeasonDefense.mean()) / df_SeasonDefense.std() #z Score normalizaiton\n",
        "\n",
        "#print(df_SeasonOffense_NormalizedZ.head())\n",
        "#print(df_SeasonDefense_NormalizedZ.head())\n",
        "\n",
        "full_team_data = np.stack([df_SeasonOffense_NormalizedZ.values, df_SeasonDefense_NormalizedZ.values], axis=1)\n",
        "\n",
        "num_stats = df_SeasonDefense_NormalizedZ.shape[1]\n",
        "full_team_data = full_team_data.reshape(-1,2, num_stats,1)\n",
        "\n",
        "print(full_team_data.shape)"
      ],
      "metadata": {
        "colab": {
          "base_uri": "https://localhost:8080/"
        },
        "id": "vt3nOsFzl-W7",
        "outputId": "87314e3c-9db9-494f-b89b-b84ebf79627a"
      },
      "execution_count": 47,
      "outputs": [
        {
          "output_type": "stream",
          "name": "stdout",
          "text": [
            "  Week  Winner/tie  Loser/tie  PtsW  PtsL   YdsW  TOW   YdsL  TOL\n",
            "0    1        15.0        2.0  27.0  20.0  353.0  1.0  452.0  1.0\n",
            "1    1        25.0       11.0  34.0  29.0  410.0  3.0  414.0  1.0\n",
            "2    1        26.0        1.0  18.0  10.0  270.0  0.0  226.0  3.0\n",
            "3    1         3.0        0.0  34.0  28.0  352.0  1.0  270.0  1.0\n",
            "4    1        22.0        4.0  47.0  10.0  379.0  1.0  193.0  3.0\n",
            "(32, 2, 26, 1)\n"
          ]
        }
      ]
    },
    {
      "cell_type": "code",
      "source": [
        "class SportsCNN(nn.Module):\n",
        "  def __init__(self):\n",
        "    super(SportsCNN, self).__init__()\n",
        "\n",
        "    #2 channels for Off and Def, 32 filters for each team.\n",
        "    self.conv1 = nn.Conv2d(in_channels=2, out_channels=32, kernel_size=(1,num_stats),stride =1 )\n",
        "    self.pool = nn.MaxPool2d(kernel_size=(1,2), stride = 2)\n",
        "    self.conv2 = nn.Conv2d(in_channels=32, out_channels=64, kernel_size=(1,2), stride = 1)\n",
        "    self.fc1 = nn.Linear(in_features=64*num_stats, out_features=128)\n",
        "    self.fc2 = nn.Linear(in_features=128, out_features=2)\n",
        "\n",
        "  def forward(self, x):\n",
        "    x = self.pool(torch.relu(self.conv1(x)))\n",
        "    x = self.pool(torch.relu(self.conv2(x)))\n",
        "    x = x.view(-1 , 64*num_stats)\n",
        "    x = torch.relu(self.fc1(x))\n",
        "    x = self.fc2(x)\n",
        "    return x\n",
        "\n",
        "model = SportsCNN()\n",
        "\n",
        "print(model)"
      ],
      "metadata": {
        "id": "ljYa2PVsva9z",
        "colab": {
          "base_uri": "https://localhost:8080/"
        },
        "outputId": "4b2cef03-86bc-4bc1-cb7c-218c4ebec330"
      },
      "execution_count": 25,
      "outputs": [
        {
          "output_type": "stream",
          "name": "stdout",
          "text": [
            "SportsCNN(\n",
            "  (conv1): Conv2d(2, 32, kernel_size=(1, 26), stride=(1, 1))\n",
            "  (pool): MaxPool2d(kernel_size=(1, 2), stride=2, padding=0, dilation=1, ceil_mode=False)\n",
            "  (conv2): Conv2d(32, 64, kernel_size=(1, 2), stride=(1, 1))\n",
            "  (fc1): Linear(in_features=1664, out_features=128, bias=True)\n",
            "  (fc2): Linear(in_features=128, out_features=2, bias=True)\n",
            ")\n"
          ]
        }
      ]
    }
  ]
}