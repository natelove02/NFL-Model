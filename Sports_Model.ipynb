{
  "nbformat": 4,
  "nbformat_minor": 0,
  "metadata": {
    "colab": {
      "provenance": [],
      "mount_file_id": "1pgFB-Zb97b6KNxSdXobHZoTYORI7JoRd",
      "authorship_tag": "ABX9TyOvc2clBYe+nF5ocxx8wopw",
      "include_colab_link": true
    },
    "kernelspec": {
      "name": "python3",
      "display_name": "Python 3"
    },
    "language_info": {
      "name": "python"
    }
  },
  "cells": [
    {
      "cell_type": "markdown",
      "metadata": {
        "id": "view-in-github",
        "colab_type": "text"
      },
      "source": [
        "<a href=\"https://colab.research.google.com/github/natelove02/NFL-Model/blob/main/Sports_Model.ipynb\" target=\"_parent\"><img src=\"https://colab.research.google.com/assets/colab-badge.svg\" alt=\"Open In Colab\"/></a>"
      ]
    },
    {
      "cell_type": "code",
      "execution_count": 3,
      "metadata": {
        "id": "SfJIv1qElQX8"
      },
      "outputs": [],
      "source": [
        "import torch\n",
        "import torch.nn as nn\n",
        "from torch.utils.data import Dataset, DataLoader\n",
        "from torchvision import datasets\n",
        "from torchvision.transforms import ToTensor\n",
        "import pandas as pd\n",
        "import numpy as np\n",
        "from sklearn.preprocessing import StandardScaler\n",
        "from sklearn.metrics import accuracy_score\n",
        "from datetime import datetime\n",
        "import matplotlib.pyplot as plt\n",
        "import requests\n",
        "from bs4 import BeautifulSoup\n",
        "import csv\n",
        "import time\n",
        "\n"
      ]
    },
    {
      "cell_type": "code",
      "source": [
        "from google.colab import drive\n",
        "drive.mount('/content/drive')"
      ],
      "metadata": {
        "colab": {
          "base_uri": "https://localhost:8080/"
        },
        "id": "wEFzuSWevd3K",
        "outputId": "3712089c-9851-41c7-e402-dff7e3cdc0b1"
      },
      "execution_count": 4,
      "outputs": [
        {
          "output_type": "stream",
          "name": "stdout",
          "text": [
            "Mounted at /content/drive\n"
          ]
        }
      ]
    },
    {
      "cell_type": "code",
      "source": [
        "\n",
        "OffPath = '/content/drive/MyDrive/NFLModel/TeamOffense.csv'\n",
        "DefPath = '/content/drive/MyDrive/NFLModel/TeamDefense.csv'\n",
        "FWPath = '/content/drive/MyDrive/NFLModel/FullWeeklyGames.csv'\n",
        "\n",
        "df_SeasonOffense = pd.read_csv(OffPath,skiprows = [0,34,35,36], header = 0)\n",
        "df_SeasonDefense = pd.read_csv(DefPath,skiprows = [0,34,35,36], header = 0)\n",
        "df_WeeklyGames = pd.read_csv(FWPath, skiprows = [273], usecols=[0, 4, 6, 8, 9, 10, 11, 12, 13], header = 0)\n",
        "df_WeeklyGames = df_WeeklyGames.iloc[:-13]\n",
        "\n",
        "#ColumnNamesOff = df_SeasonOffense.iloc[1]\n",
        "#ColumnNamesDef = df_SeasonDefense.iloc[1]\n",
        "\n",
        "\n",
        "\n",
        "df_SeasonOffense = df_SeasonOffense.sort_values(by=\"Tm\").reset_index(drop=True)\n",
        "df_SeasonDefense = df_SeasonDefense.sort_values(by=\"Tm\").reset_index(drop=True)\n",
        "#df_WeeklyGames = df_WeeklyGames.sort_values(by=\"Winner/tie\").reset_index(drop=True)\n",
        "\n",
        "\n",
        "\n",
        "team_map = {idx: team for idx, team in enumerate(df_SeasonOffense[\"Tm\"].unique())}\n",
        "df_WeeklyGames['Loser/tie'] = df_WeeklyGames['Loser/tie'].map(team_map)\n",
        "df_WeeklyGames['Winner/tie'] = df_WeeklyGames['Winner/tie'].map(team_map)\n",
        "df_SeasonOffense['Tm'] = df_SeasonOffense['Tm'].map(team_map)\n",
        "df_SeasonDefense['Tm'] = df_SeasonDefense['Tm'].map(team_map)\n",
        "\n",
        "team_column = df_SeasonOffense['Tm']\n",
        "df_SeasonOffense = df_SeasonOffense.drop(columns=['Rk','Tm'])\n",
        "df_SeasonDefense = df_SeasonDefense.drop(columns=['Rk','Tm'])\n",
        "\n",
        "#df_SeasonOffense = df_SeasonOffense.drop(index=[0,1])\n",
        "#df_SeasonDefense = df_SeasonDefense.drop(index=[0,1])\n",
        "\n",
        "\n",
        "\n",
        "df_SeasonOffense_NormalizedZ = (df_SeasonOffense - df_SeasonOffense.mean()) / df_SeasonOffense.std() #Z Score normalization\n",
        "df_SeasonDefense_NormalizedZ = (df_SeasonDefense - df_SeasonDefense.mean()) / df_SeasonDefense.std() #z Score normalizaiton\n",
        "\n",
        "df_SeasonDefense_NormalizedZ['Tm'] = team_column\n",
        "df_SeasonOffense_NormalizedZ['Tm'] = team_column\n",
        "\n",
        "\n",
        "\n",
        "#df_WeeklyGames.index=df_WeeklyGames.set_index(['Winner/tie','Loser/tie'])\n",
        "#df_WeeklyGames.index=df_WeeklyGames.index.astype(int)\n",
        "\n",
        "\n",
        "full_team_data = np.stack([df_SeasonOffense_NormalizedZ.values, df_SeasonDefense_NormalizedZ.values], axis=1)\n",
        "\n",
        "num_stats = df_SeasonDefense_NormalizedZ.shape[1]\n",
        "full_team_data = full_team_data.reshape(-1,2, num_stats,1)\n",
        "\n",
        "print(full_team_data.shape)"
      ],
      "metadata": {
        "colab": {
          "base_uri": "https://localhost:8080/"
        },
        "id": "vt3nOsFzl-W7",
        "outputId": "638f638f-dcd1-4f60-fbc3-3c30a39dcb70"
      },
      "execution_count": 44,
      "outputs": [
        {
          "output_type": "stream",
          "name": "stdout",
          "text": [
            "(32, 2, 27, 1)\n"
          ]
        }
      ]
    },
    {
      "cell_type": "code",
      "source": [
        "def GameDataPrep(df_WeeklyGames, df_SeasonOffense_NormalizedZ, df_SeasonDefense_NormalizedZ):\n",
        "  X_games = []\n",
        "  Y_labels = []\n",
        "\n",
        "  for index, row in df_WeeklyGames.iterrows():\n",
        "    winner_team = (row['Winner/tie'])\n",
        "    loser_team = (row['Loser/tie'])\n",
        "    print(\"Team Map Keys:\", team_map.keys())\n",
        "    print(\"Trying to access key:\", winner_team)\n",
        "    winner_id = team_map[winner_team]\n",
        "    loser_id = team_map[loser_team]\n",
        "\n",
        "    winner_offense = df_SeasonOffense.loc[winner_id].values\n",
        "    winner_defense = df_SeasonDefense.loc[winner_id].values\n",
        "    loser_offense = df_SeasonOffense.loc[loser_id].values\n",
        "    loser_defense = df_SeasonDefense.loc[loser_id].values\n",
        "\n",
        "    winner_data = [row['PtsW'], row['YdsW'], row['TOW']]\n",
        "    loser_data = [row['PtsL'], row['YdsL'], row['TOL']]\n",
        "\n",
        "    X_Game = [\n",
        "        np.concatenate((winner_data, winner_offense, winner_defense), axis=None),\n",
        "        np.concatenate((loser_data, loser_offense, loser_defense), axis=None)\n",
        "    ]\n",
        "\n",
        "    X_games.append(X_Game)\n",
        "\n",
        "    Y_labels.append(1)\n",
        "\n",
        "  return np.array(X_games), np.array(Y_labels)\n",
        "\n",
        "x_games, y_labels = GameDataPrep(df_WeeklyGames, df_SeasonOffense_NormalizedZ, df_SeasonDefense_NormalizedZ)\n",
        "print(x_games.shape)\n",
        "print(y_labels.shape)"
      ],
      "metadata": {
        "id": "HX-EpYaGMmbX",
        "outputId": "18bb6f85-9ef0-4192-fd08-43e939f4cbe3",
        "colab": {
          "base_uri": "https://localhost:8080/",
          "height": 376
        }
      },
      "execution_count": 46,
      "outputs": [
        {
          "output_type": "stream",
          "name": "stdout",
          "text": [
            "Team Map Keys: dict_keys([0, 1, 2, 3, 4, 5, 6, 7, 8, 9, 10, 11, 12, 13, 14, 15, 16, 17, 18, 19, 20, 21, 22, 23, 24, 25, 26, 27, 28, 29, 30, 31])\n",
            "Trying to access key: nan\n"
          ]
        },
        {
          "output_type": "error",
          "ename": "KeyError",
          "evalue": "nan",
          "traceback": [
            "\u001b[0;31m---------------------------------------------------------------------------\u001b[0m",
            "\u001b[0;31mKeyError\u001b[0m                                  Traceback (most recent call last)",
            "\u001b[0;32m<ipython-input-46-a4efe0292bc8>\u001b[0m in \u001b[0;36m<cell line: 0>\u001b[0;34m()\u001b[0m\n\u001b[1;32m     30\u001b[0m   \u001b[0;32mreturn\u001b[0m \u001b[0mnp\u001b[0m\u001b[0;34m.\u001b[0m\u001b[0marray\u001b[0m\u001b[0;34m(\u001b[0m\u001b[0mX_games\u001b[0m\u001b[0;34m)\u001b[0m\u001b[0;34m,\u001b[0m \u001b[0mnp\u001b[0m\u001b[0;34m.\u001b[0m\u001b[0marray\u001b[0m\u001b[0;34m(\u001b[0m\u001b[0mY_labels\u001b[0m\u001b[0;34m)\u001b[0m\u001b[0;34m\u001b[0m\u001b[0;34m\u001b[0m\u001b[0m\n\u001b[1;32m     31\u001b[0m \u001b[0;34m\u001b[0m\u001b[0m\n\u001b[0;32m---> 32\u001b[0;31m \u001b[0mx_games\u001b[0m\u001b[0;34m,\u001b[0m \u001b[0my_labels\u001b[0m \u001b[0;34m=\u001b[0m \u001b[0mGameDataPrep\u001b[0m\u001b[0;34m(\u001b[0m\u001b[0mdf_WeeklyGames\u001b[0m\u001b[0;34m,\u001b[0m \u001b[0mdf_SeasonOffense_NormalizedZ\u001b[0m\u001b[0;34m,\u001b[0m \u001b[0mdf_SeasonDefense_NormalizedZ\u001b[0m\u001b[0;34m)\u001b[0m\u001b[0;34m\u001b[0m\u001b[0;34m\u001b[0m\u001b[0m\n\u001b[0m\u001b[1;32m     33\u001b[0m \u001b[0mprint\u001b[0m\u001b[0;34m(\u001b[0m\u001b[0mx_games\u001b[0m\u001b[0;34m.\u001b[0m\u001b[0mshape\u001b[0m\u001b[0;34m)\u001b[0m\u001b[0;34m\u001b[0m\u001b[0;34m\u001b[0m\u001b[0m\n\u001b[1;32m     34\u001b[0m \u001b[0mprint\u001b[0m\u001b[0;34m(\u001b[0m\u001b[0my_labels\u001b[0m\u001b[0;34m.\u001b[0m\u001b[0mshape\u001b[0m\u001b[0;34m)\u001b[0m\u001b[0;34m\u001b[0m\u001b[0;34m\u001b[0m\u001b[0m\n",
            "\u001b[0;32m<ipython-input-46-a4efe0292bc8>\u001b[0m in \u001b[0;36mGameDataPrep\u001b[0;34m(df_WeeklyGames, df_SeasonOffense_NormalizedZ, df_SeasonDefense_NormalizedZ)\u001b[0m\n\u001b[1;32m      8\u001b[0m     \u001b[0mprint\u001b[0m\u001b[0;34m(\u001b[0m\u001b[0;34m\"Team Map Keys:\"\u001b[0m\u001b[0;34m,\u001b[0m \u001b[0mteam_map\u001b[0m\u001b[0;34m.\u001b[0m\u001b[0mkeys\u001b[0m\u001b[0;34m(\u001b[0m\u001b[0;34m)\u001b[0m\u001b[0;34m)\u001b[0m\u001b[0;34m\u001b[0m\u001b[0;34m\u001b[0m\u001b[0m\n\u001b[1;32m      9\u001b[0m     \u001b[0mprint\u001b[0m\u001b[0;34m(\u001b[0m\u001b[0;34m\"Trying to access key:\"\u001b[0m\u001b[0;34m,\u001b[0m \u001b[0mwinner_team\u001b[0m\u001b[0;34m)\u001b[0m\u001b[0;34m\u001b[0m\u001b[0;34m\u001b[0m\u001b[0m\n\u001b[0;32m---> 10\u001b[0;31m     \u001b[0mwinner_id\u001b[0m \u001b[0;34m=\u001b[0m \u001b[0mteam_map\u001b[0m\u001b[0;34m[\u001b[0m\u001b[0mwinner_team\u001b[0m\u001b[0;34m]\u001b[0m\u001b[0;34m\u001b[0m\u001b[0;34m\u001b[0m\u001b[0m\n\u001b[0m\u001b[1;32m     11\u001b[0m     \u001b[0mloser_id\u001b[0m \u001b[0;34m=\u001b[0m \u001b[0mteam_map\u001b[0m\u001b[0;34m[\u001b[0m\u001b[0mloser_team\u001b[0m\u001b[0;34m]\u001b[0m\u001b[0;34m\u001b[0m\u001b[0;34m\u001b[0m\u001b[0m\n\u001b[1;32m     12\u001b[0m \u001b[0;34m\u001b[0m\u001b[0m\n",
            "\u001b[0;31mKeyError\u001b[0m: nan"
          ]
        }
      ]
    },
    {
      "cell_type": "code",
      "source": [
        "class SportsCNN(nn.Module):\n",
        "  def __init__(self):\n",
        "    super(SportsCNN, self).__init__()\n",
        "\n",
        "    #2 channels for Off and Def, 32 filters for each team.\n",
        "    self.conv1 = nn.Conv2d(in_channels=2, out_channels=32, kernel_size=(1,num_stats),stride =1 )\n",
        "    self.pool = nn.MaxPool2d(kernel_size=(1,2), stride = 2)\n",
        "    self.conv2 = nn.Conv2d(in_channels=32, out_channels=64, kernel_size=(1,2), stride = 1)\n",
        "    self.fc1 = nn.Linear(in_features=64*num_stats, out_features=128)\n",
        "    self.fc2 = nn.Linear(in_features=128, out_features=2)\n",
        "\n",
        "  def forward(self, x):\n",
        "    x = self.pool(torch.relu(self.conv1(x)))\n",
        "    x = self.pool(torch.relu(self.conv2(x)))\n",
        "    x = x.view(-1 , 64*num_stats)\n",
        "    x = torch.relu(self.fc1(x))\n",
        "    x = self.fc2(x)\n",
        "    return x\n",
        "\n",
        "model = SportsCNN()\n",
        "\n",
        "print(model)"
      ],
      "metadata": {
        "id": "ljYa2PVsva9z",
        "colab": {
          "base_uri": "https://localhost:8080/"
        },
        "outputId": "4b2cef03-86bc-4bc1-cb7c-218c4ebec330"
      },
      "execution_count": null,
      "outputs": [
        {
          "output_type": "stream",
          "name": "stdout",
          "text": [
            "SportsCNN(\n",
            "  (conv1): Conv2d(2, 32, kernel_size=(1, 26), stride=(1, 1))\n",
            "  (pool): MaxPool2d(kernel_size=(1, 2), stride=2, padding=0, dilation=1, ceil_mode=False)\n",
            "  (conv2): Conv2d(32, 64, kernel_size=(1, 2), stride=(1, 1))\n",
            "  (fc1): Linear(in_features=1664, out_features=128, bias=True)\n",
            "  (fc2): Linear(in_features=128, out_features=2, bias=True)\n",
            ")\n"
          ]
        }
      ]
    }
  ]
}