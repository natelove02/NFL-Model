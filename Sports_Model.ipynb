{
  "nbformat": 4,
  "nbformat_minor": 0,
  "metadata": {
    "colab": {
      "provenance": [],
      "mount_file_id": "1pgFB-Zb97b6KNxSdXobHZoTYORI7JoRd",
      "authorship_tag": "ABX9TyP2KIWg7ZRjaD8F9ksxRitv",
      "include_colab_link": true
    },
    "kernelspec": {
      "name": "python3",
      "display_name": "Python 3"
    },
    "language_info": {
      "name": "python"
    }
  },
  "cells": [
    {
      "cell_type": "markdown",
      "metadata": {
        "id": "view-in-github",
        "colab_type": "text"
      },
      "source": [
        "<a href=\"https://colab.research.google.com/github/natelove02/NFL-Model/blob/main/Sports_Model.ipynb\" target=\"_parent\"><img src=\"https://colab.research.google.com/assets/colab-badge.svg\" alt=\"Open In Colab\"/></a>"
      ]
    },
    {
      "cell_type": "code",
      "execution_count": 3,
      "metadata": {
        "id": "SfJIv1qElQX8"
      },
      "outputs": [],
      "source": [
        "import torch\n",
        "import torch.nn as nn\n",
        "import pandas as pd\n",
        "import numpy as np\n",
        "from sklearn.preprocessing import StandardScaler\n",
        "from sklearn.metrics import accuracy_score\n",
        "from datetime import datetime\n",
        "import matplotlib.pyplot as plt\n",
        "\n"
      ]
    },
    {
      "cell_type": "code",
      "source": [
        "from google.colab import drive\n",
        "drive.mount('/content/drive')"
      ],
      "metadata": {
        "colab": {
          "base_uri": "https://localhost:8080/"
        },
        "id": "wEFzuSWevd3K",
        "outputId": "2e49cff8-4cde-480a-c054-efc776035405"
      },
      "execution_count": 4,
      "outputs": [
        {
          "output_type": "stream",
          "name": "stdout",
          "text": [
            "Mounted at /content/drive\n"
          ]
        }
      ]
    },
    {
      "cell_type": "code",
      "source": [
        "\n",
        "OffPath = '/content/drive/MyDrive/NFLModel/TeamOffense.csv'\n",
        "DefPath = '/content/drive/MyDrive/NFLModel/TeamDefense.csv'\n",
        "\n",
        "df_SeasonOffense = pd.read_csv(OffPath,skiprows = 0, header = 1)\n",
        "df_SeasonDefense = pd.read_csv(DefPath,skiprows = 0, header = 1)\n",
        "\n",
        "print(df_SeasonOffense.head())\n",
        "print(df_SeasonDefense.head())\n",
        "\n",
        "ColumnNamesOff = df_SeasonOffense.iloc[1]\n",
        "ColumnNamesDef = df_SeasonDefense.iloc[1]\n",
        "\n",
        "#df_SeasonOffense.columns = ColumnNamesOff\n",
        "#df_SeasonDefense.columns = ColumnNamesDef\n",
        "\n",
        "print(type(df_SeasonOffense))\n",
        "print(type(df_SeasonDefense))\n",
        "\n",
        "df_SeasonOffense = df_SeasonOffense.sort_values(by=\"Tm\").reset_index(drop=True)\n",
        "df_SeasonDefense = df_SeasonDefense.sort_values(by=\"Tm\").reset_index(drop=True)\n",
        "\n",
        "team_map = dict(enumerate(df_SeasonOffense['Tm'].astype('category').cat.categories))\n",
        "\n",
        "df_SeasonOffense = df_SeasonOffense.drop(columns=['Rk','Tm'])\n",
        "df_SeasonDefense = df_SeasonDefense.drop(columns=['Rk','Tm'])\n",
        "\n",
        "#df_SeasonOffense = df_SeasonOffense.drop(index=[0,1])\n",
        "#df_SeasonDefense = df_SeasonDefense.drop(index=[0,1])\n",
        "\n",
        "print(df_SeasonOffense.head())\n",
        "print(df_SeasonDefense.head())\n",
        "\n",
        "df_SeasonOffense_NormalizedZ = (df_SeasonOffense - df_SeasonOffense.mean()) / df_SeasonOffense.std() #Z Score normalization\n",
        "df_SeasonDefense_NormalizedZ = (df_SeasonDefense - df_SeasonDefense.mean()) / df_SeasonDefense.std() #z Score normalizaiton"
      ],
      "metadata": {
        "colab": {
          "base_uri": "https://localhost:8080/"
        },
        "id": "vt3nOsFzl-W7",
        "outputId": "95b76bf2-4987-4534-8e7c-95d4c484cd6f"
      },
      "execution_count": 13,
      "outputs": [
        {
          "output_type": "stream",
          "name": "stdout",
          "text": [
            "    Rk                     Tm     G     PF     Yds     Ply  Y/P    TO   FL  \\\n",
            "0  1.0          Detroit Lions  17.0  564.0  6962.0  1118.0  6.2  15.0  3.0   \n",
            "1  2.0          Buffalo Bills  17.0  525.0  6105.0  1025.0  6.0   8.0  2.0   \n",
            "2  3.0       Baltimore Ravens  17.0  518.0  7224.0  1055.0  6.8  11.0  7.0   \n",
            "3  4.0   Tampa Bay Buccaneers  17.0  502.0  6793.0  1094.0  6.2  23.0  7.0   \n",
            "4  5.0  Washington Commanders  17.0  485.0  6284.0  1101.0  5.7  16.0  7.0   \n",
            "\n",
            "    1stD  ...   Yds.2  TD.1  Y/A  1stD.2    Pen   Yds.3  1stPy   Sc%   TO%  \\\n",
            "0  410.0  ...  2488.0  29.0  4.7   144.0  107.0   988.0   24.0  51.6   8.2   \n",
            "1  360.0  ...  2230.0  32.0  4.5   140.0  112.0   833.0   39.0  49.7   4.6   \n",
            "2  393.0  ...  3189.0  21.0  5.8   164.0  132.0  1120.0   30.0  47.0   6.1   \n",
            "3  395.0  ...  2536.0  16.0  5.3   137.0  108.0   839.0   34.0  48.1  12.7   \n",
            "4  380.0  ...  2619.0  25.0  5.0   154.0  111.0   960.0   34.0  50.0   8.0   \n",
            "\n",
            "      EXP  \n",
            "0  269.80  \n",
            "1  266.71  \n",
            "2  300.81  \n",
            "3  207.09  \n",
            "4  242.98  \n",
            "\n",
            "[5 rows x 28 columns]\n",
            "    Rk                    Tm     G     PA     Yds     Ply  Y/P    TO    FL  \\\n",
            "0  1.0  Los Angeles Chargers  17.0  301.0  5514.0  1037.0  5.3  21.0   6.0   \n",
            "1  2.0   Philadelphia Eagles  17.0  303.0  4732.0   999.0  4.7  26.0  13.0   \n",
            "2  3.0        Denver Broncos  17.0  311.0  5391.0  1093.0  4.9  25.0  10.0   \n",
            "3  4.0    Kansas City Chiefs  17.0  326.0  5451.0  1026.0  5.3  20.0   7.0   \n",
            "4  5.0     Minnesota Vikings  17.0  332.0  5702.0  1078.0  5.3  33.0   9.0   \n",
            "\n",
            "    1stD  ...   Yds.2  TD.1  Y/A  1stD.2    Pen   Yds.3  1stPy   Sc%   TO%  \\\n",
            "0  311.0  ...  1997.0   7.0  4.7   108.0  101.0   869.0   33.0  32.6  11.6   \n",
            "1  293.0  ...  1771.0   9.0  4.3   108.0   85.0   694.0   25.0  31.6  14.1   \n",
            "2  327.0  ...  1639.0  10.0  3.9    82.0  101.0   723.0   42.0  31.6  12.4   \n",
            "3  328.0  ...  1731.0  13.0  4.1   112.0  107.0   849.0   25.0  36.5  11.4   \n",
            "4  325.0  ...  1588.0  12.0  4.1    83.0  141.0  1185.0   24.0  31.6  16.6   \n",
            "\n",
            "     EXP  \n",
            "0 -12.31  \n",
            "1  76.38  \n",
            "2  34.83  \n",
            "3 -74.11  \n",
            "4  35.95  \n",
            "\n",
            "[5 rows x 28 columns]\n",
            "<class 'pandas.core.frame.DataFrame'>\n",
            "<class 'pandas.core.frame.DataFrame'>\n",
            "      G     PF     Yds     Ply  Y/P    TO   FL   1stD    Cmp    Att  ...  \\\n",
            "2   NaN  389.5  5736.2  1056.6  5.4  20.6  8.5  335.3  363.4  556.6  ...   \n",
            "3   NaN   22.9   337.4    62.2  5.4   1.2  0.5   19.7   21.4   32.7  ...   \n",
            "4  17.0  518.0  7224.0  1055.0  6.8  11.0  7.0  393.0  318.0  477.0  ...   \n",
            "5  17.0  525.0  6105.0  1025.0  6.0   8.0  2.0  360.0  329.0  520.0  ...   \n",
            "6  17.0  341.0  5066.0   993.0  5.1  22.0  7.0  293.0  341.0  547.0  ...   \n",
            "\n",
            "    Yds.2  TD.1  Y/A  1stD.2    Pen   Yds.3  1stPy   Sc%   TO%     EXP  \n",
            "2  2036.7  16.0  4.4   115.1  109.6   887.9   29.5  38.8  10.7   66.70  \n",
            "3   119.8   0.9  4.4     6.8    6.4    52.2    1.7  38.8  10.7     NaN  \n",
            "4  3189.0  21.0  5.8   164.0  132.0  1120.0   30.0  47.0   6.1  300.81  \n",
            "5  2230.0  32.0  4.5   140.0  112.0   833.0   39.0  49.7   4.6  266.71  \n",
            "6  1878.0  18.0  4.6    99.0  118.0   947.0   26.0  33.3  11.8   -9.53  \n",
            "\n",
            "[5 rows x 26 columns]\n",
            "      G     PA     Yds     Ply  Y/P    TO    FL   1stD    Cmp    Att  ...  \\\n",
            "2   NaN  389.5  5736.2  1056.6  5.4  20.6   8.5  335.3  363.4  556.6  ...   \n",
            "3   NaN   22.9   337.4    62.2  5.4   1.2   0.5   19.7   21.4   32.7  ...   \n",
            "4  17.0  361.0  5511.0  1062.0  5.2  17.0   5.0  330.0  396.0  625.0  ...   \n",
            "5  17.0  368.0  5806.0  1052.0  5.5  32.0  16.0  356.0  396.0  578.0  ...   \n",
            "6  17.0  534.0  6877.0  1154.0  6.0  17.0   8.0  417.0  360.0  530.0  ...   \n",
            "\n",
            "    Yds.2  TD.1  Y/A  1stD.2    Pen   Yds.3  1stPy   Sc%   TO%     EXP  \n",
            "2  2036.7  16.0  4.4   115.1  109.6   887.9   29.5  38.8  10.7  -66.70  \n",
            "3   119.8   0.9  4.4     6.8    6.4    52.2    1.7  38.8  10.7     NaN  \n",
            "4  1361.0  12.0  3.6    69.0   97.0   759.0   43.0  36.6   9.1  -49.44  \n",
            "5  1963.0  13.0  4.5   109.0  127.0  1016.0   30.0  36.3  17.5  -76.45  \n",
            "6  3057.0  24.0  5.2   179.0  120.0   977.0   33.0  51.4   8.6 -220.48  \n",
            "\n",
            "[5 rows x 26 columns]\n"
          ]
        }
      ]
    },
    {
      "cell_type": "code",
      "source": [],
      "metadata": {
        "id": "ljYa2PVsva9z"
      },
      "execution_count": null,
      "outputs": []
    }
  ]
}